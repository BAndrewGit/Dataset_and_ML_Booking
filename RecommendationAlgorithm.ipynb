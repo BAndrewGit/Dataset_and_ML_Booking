{
  "nbformat": 4,
  "nbformat_minor": 0,
  "metadata": {
    "colab": {
      "provenance": []
    },
    "kernelspec": {
      "name": "python3",
      "display_name": "Python 3"
    },
    "language_info": {
      "name": "python"
    }
  },
  "cells": [
    {
      "cell_type": "code",
      "execution_count": 2,
      "metadata": {
        "id": "W5IXC9EdesDK"
      },
      "outputs": [],
      "source": [
        "import pandas as pd\n",
        "import joblib\n",
        "from google.colab import files\n",
        "\n",
        "df = pd.read_csv('clean_dataset_Romania.csv')\n",
        "\n",
        "# Notațiile acordate de utilizator pentru fiecare categorie\n",
        "user_ratings = {\n",
        "    'nota_personal': 6,\n",
        "    'nota_facilităţi': 4,\n",
        "    'nota_curăţenie': 10,\n",
        "    'nota_confort': 10,\n",
        "    'nota_raport_calitate/preţ': 10,\n",
        "    'nota_locaţie': 3,\n",
        "    'nota_wifi_gratuit': 1\n",
        "}\n",
        "\n",
        "# Verificăm dacă suma notelor acordate de utilizator nu depășește numărul maxim de puncte\n",
        "if sum(user_ratings.values()) > 44:\n",
        "    print('Suma notelor acordate de utilizator depășește numărul maxim de puncte.')\n",
        "else:\n",
        "    # Calculăm scorul de preferință pentru fiecare hotel\n",
        "    for index, row in df.iterrows():\n",
        "        preference_score = 0\n",
        "        for category, user_rating in user_ratings.items():\n",
        "            preference_score += row[category] * user_rating\n",
        "        df.loc[index, 'preference_score'] = preference_score\n",
        "\n",
        "# Lista dvs. de cazări preferate\n",
        "preferred_accommodations = ['Cabana Sebes Bera', 'Casa de Vacanță S&B', 'Apartament doua camere Retro view']\n"
      ]
    },
    {
      "cell_type": "code",
      "source": [
        "from sklearn.cluster import KMeans\n",
        "\n",
        "# Creăm un model KMeans cu un număr specific de clustere\n",
        "kmeans = KMeans(n_clusters=5, n_init='auto')\n",
        "\n",
        "# Antrenăm modelul cu datele noastre\n",
        "kmeans.fit(df[['price', 'nota_personal', 'nota_facilităţi', 'nota_curăţenie', 'nota_confort', 'nota_raport_calitate/preţ', 'nota_locaţie', 'nota_wifi_gratuit']])\n",
        "\n",
        "# Adăugăm etichetele de cluster la DataFrame\n",
        "df['cluster'] = kmeans.labels_\n",
        "\n",
        "# Lista dvs. de cazări preferate\n",
        "preferred_accommodations = ['Cabana Sebes Bera', 'Casa de Vacanță S&B', 'Apartament doua camere Retro view']\n",
        "\n",
        "# Identificăm clusterul preferat\n",
        "preferred_cluster = df[df['name'].isin(preferred_accommodations)]['cluster'].mode()[0]\n",
        "\n",
        "# Filtrăm DataFrame-ul pentru a include doar hotelurile din clusterul preferat\n",
        "df = df[df['cluster'] == preferred_cluster]\n"
      ],
      "metadata": {
        "id": "NbBvhk_gMJZK"
      },
      "execution_count": 3,
      "outputs": []
    },
    {
      "cell_type": "code",
      "source": [
        "# Aplicăm filtrele\n",
        "max_budget = 200\n",
        "df = df[df['price'] <= max_budget]\n",
        "\n",
        "preferred_region = 'Braşov'\n",
        "df = df[df['region'] == preferred_region]\n",
        "\n",
        "# Identificăm facilitățile care sunt disponibile la cazări preferate\n",
        "preferred_facilities = df[df['name'].isin(preferred_accommodations)].iloc[:, -37:].sum(axis=0)\n",
        "\n",
        "# Calculăm scorul de potrivire a facilităților pentru fiecare hotel\n",
        "for index, row in df.iterrows():\n",
        "    matching_facilities_score = sum(row[-37:] * preferred_facilities)\n",
        "    df.loc[index, 'preference_score'] += matching_facilities_score\n",
        "\n",
        "# Afișăm primele 5 hoteluri cu cel mai mare scor de preferință\n",
        "print(df.nlargest(5, 'preference_score'))\n",
        "\n",
        "# Salvarea și Descărcarea Modelului KMeans\n",
        "# joblib.dump(kmeans, 'recommendation_model.pkl')\n",
        "# files.download('recommendation_model.pkl')"
      ],
      "metadata": {
        "colab": {
          "base_uri": "https://localhost:8080/"
        },
        "id": "r5ta-OwsMCaz",
        "outputId": "412fff44-09a4-41a9-ad5a-284039653168"
      },
      "execution_count": 5,
      "outputs": [
        {
          "output_type": "stream",
          "name": "stdout",
          "text": [
            "                                  name  \\\n",
            "339  Apartament doua camere Retro view   \n",
            "739                              Tudor   \n",
            "343                         Studio ANA   \n",
            "713             SECRET boutique Hostel   \n",
            "783                VivamusApartmentsBV   \n",
            "\n",
            "                                               address  postal_code  country  \\\n",
            "339                    Strada Negoiu, Făgăraş, România          NaN  România   \n",
            "739           George Călinescu, 500170 Brașov, România     500170.0  România   \n",
            "343  Strada Tăbăcari, BL 14, AP 11, 505200 Făgăraş,...     505200.0  România   \n",
            "713      Strada Alecu Russo 2C, 500020 Brașov, România     500020.0  România   \n",
            "783       2 Strada Orizontului, 507190 Brașov, România     507190.0  România   \n",
            "\n",
            "     region   latitude  longitude              check_in             check_out  \\\n",
            "339  Braşov  45.833955  24.974558  De la 14:00 la 20:00  Disponibil 24 de ore   \n",
            "739  Braşov  45.677021  25.610055  De la 15:00 la 23:30  De la 07:00 la 11:00   \n",
            "343  Braşov  45.841242  24.981593  De la 15:00 la 18:00  De la 08:00 la 12:00   \n",
            "713  Braşov  45.640389  25.590841  De la 15:00 la 20:00  De la 08:00 la 12:00   \n",
            "783  Braşov  45.686752  25.617273  De la 14:00 la 00:00  De la 08:00 la 11:00   \n",
            "\n",
            "     price  ... zonă_de_luat_masa  canale_prin_cablu  aer_condiţionat   masă  \\\n",
            "339  197.0  ...             False              False            False  False   \n",
            "739  189.0  ...              True               True            False   True   \n",
            "343  178.0  ...             False              False            False  False   \n",
            "713   95.0  ...              True               True            False   True   \n",
            "783  200.0  ...             False              False            False  False   \n",
            "\n",
            "     suport_de_haine cadă_sau_duş  frigider mic_dejun  preference_score  \\\n",
            "339            False        False     False         0          185347.0   \n",
            "739             True        False      True         0          185347.0   \n",
            "343            False        False     False         0          184743.6   \n",
            "713             True        False      True         0          184527.1   \n",
            "783            False        False     False         0          183278.2   \n",
            "\n",
            "     cluster  \n",
            "339        4  \n",
            "739        4  \n",
            "343        4  \n",
            "713        4  \n",
            "783        4  \n",
            "\n",
            "[5 rows x 68 columns]\n"
          ]
        }
      ]
    },
    {
      "cell_type": "code",
      "source": [
        "from sklearn.decomposition import TruncatedSVD\n",
        "from sklearn.metrics.pairwise import cosine_similarity\n",
        "import numpy as np\n",
        "\n",
        "# Încărcarea dataset-ului\n",
        "df = pd.read_csv('clean_dataset_Romania.csv')\n",
        "\n",
        "# Codificarea one-hot\n",
        "df = pd.get_dummies(df, columns=['type', 'region', 'persons', 'room_type', 'mic_dejun', 'stars'])\n",
        "\n",
        "# Creează o listă cu numele coloanelor codificate cu one-hot\n",
        "one_hot_columns = [col for col in df.columns if 'type_' in col or 'region_' in col or 'persons_'\n",
        "                   in col or 'room_type_' in col or 'mic_dejun_' in col or 'stars_' in col]\n",
        "\n",
        "# Selectați caracteristicile pe care doriți să le utilizați (de exemplu, ratingurile)\n",
        "selected_columns = one_hot_columns + ['price', 'nota_personal', 'nota_facilităţi', 'nota_curăţenie', 'nota_confort', 'nota_raport_calitate/preţ', 'nota_locaţie', 'nota_wifi_gratuit',\n",
        "                                      'vedere_la_oraș', 'menaj_zilnic', 'canale_prin_satelit', 'zonă_de_luat_masa_în_aer_liber', 'cadă',\n",
        "                                      'facilităţi_de_călcat', 'izolare_fonică', 'terasă_la_soare', 'pardoseală_de_gresie/marmură',\n",
        "                                      'papuci_de_casă', 'uscător_de_rufe', 'animale_de_companie', 'încălzire', 'birou', 'mobilier_exterior',\n",
        "                                      'alarmă_de_fum', 'vedere_la_grădină', 'cuptor', 'cuptor_cu_microunde', 'zonă_de_relaxare', 'canapea',\n",
        "                                      'intrare_privată', 'fier_de_călcat', 'mașină_de_cafea', 'plită_de_gătit', 'extinctoare', 'cană_fierbător',\n",
        "                                      'grădină', 'ustensile_de_bucătărie', 'maşină_de_spălat', 'balcon', 'pardoseală_de_lemn_sau_parchet',\n",
        "                                      'aparat_pentru_prepararea_de_ceai/cafea', 'zonă_de_luat_masa', 'canale_prin_cablu', 'aer_condiţionat',\n",
        "                                      'masă', 'suport_de_haine', 'cadă_sau_duş', 'frigider']\n",
        "\n",
        "# Creați o matrice de caracteristici\n",
        "X = df[selected_columns].values\n",
        "\n",
        "# Aplicam SVD\n",
        "svd = TruncatedSVD(n_components=5)\n",
        "X_reduced = svd.fit_transform(X)\n",
        "\n",
        "# Calculam similaritățile între hoteluri\n",
        "similarities = cosine_similarity(X_reduced)\n",
        "\n",
        "# Găsim hotelurile cele mai similare cu primul hotel\n",
        "top5_similar = np.argsort(similarities[0])[-6:-1][::-1]\n",
        "\n",
        "# Afișam numele hotelurilor cele mai similare\n",
        "print(df.iloc[top5_similar]['name'])\n"
      ],
      "metadata": {
        "colab": {
          "base_uri": "https://localhost:8080/"
        },
        "id": "5x7Py2wSHEZL",
        "outputId": "5cf85188-b5a6-444b-fc90-844fc0b5b881"
      },
      "execution_count": 6,
      "outputs": [
        {
          "output_type": "stream",
          "name": "stdout",
          "text": [
            "542                      Pensiunea Luiza\n",
            "1913                    Euro House Hotel\n",
            "2478    Old Town Relaxing&Cozy Apartment\n",
            "577                          Vila Condor\n",
            "1485                      Williams House\n",
            "Name: name, dtype: object\n"
          ]
        }
      ]
    }
  ]
}